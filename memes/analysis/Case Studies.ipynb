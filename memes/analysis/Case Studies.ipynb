{
 "cells": [
  {
   "cell_type": "markdown",
   "id": "4f8189e8",
   "metadata": {},
   "source": [
    "# Preparation"
   ]
  },
  {
   "cell_type": "code",
   "execution_count": 1,
   "id": "7bcd8288",
   "metadata": {},
   "outputs": [],
   "source": [
    "import itertools\n",
    "from collections import namedtuple, defaultdict\n"
   ]
  },
  {
   "cell_type": "code",
   "execution_count": 2,
   "id": "6a5c03ef",
   "metadata": {},
   "outputs": [
    {
     "name": "stderr",
     "output_type": "stream",
     "text": [
      "<frozen importlib._bootstrap>:219: RuntimeWarning: scipy._lib.messagestream.MessageStream size changed, may indicate binary incompatibility. Expected 56 from C header, got 64 from PyObject\n"
     ]
    }
   ],
   "source": [
    "import pandas as pd\n",
    "import numpy as np\n",
    "from scipy import stats\n",
    "import matplotlib.pyplot as plt\n",
    "import seaborn as sns\n",
    "from tqdm.auto import tqdm\n",
    "\n",
    "plt.rcParams[\"figure.dpi\"] = 300\n",
    "\n",
    "sns.set()\n",
    "\n",
    "from PIL import Image"
   ]
  },
  {
   "cell_type": "code",
   "execution_count": 3,
   "id": "abe53b51",
   "metadata": {},
   "outputs": [],
   "source": [
    "from memes.utils import DATA_DIR, HashClusters, read_id_to_info\n",
    "from memes.visualization_utils import draw_grid"
   ]
  },
  {
   "cell_type": "code",
   "execution_count": 4,
   "id": "2e2a6e9f",
   "metadata": {},
   "outputs": [
    {
     "name": "stderr",
     "output_type": "stream",
     "text": [
      "29082578it [00:46, 631255.51it/s]\n",
      "16662070it [00:52, 319238.39it/s]\n",
      "10981044it [00:31, 347317.30it/s]\n"
     ]
    }
   ],
   "source": [
    "hc = HashClusters(\n",
    "    \"../data/filepaths/all.tsv\",\n",
    "    \"../data/imagehashes/all-8-processed-hashes.tsv\",\n",
    "    \"../data/clusters/all-8-processed-leiden.tsv\"\n",
    ")"
   ]
  },
  {
   "cell_type": "code",
   "execution_count": 5,
   "id": "fcaaecc6",
   "metadata": {},
   "outputs": [],
   "source": [
    "def load_template_clusters(path=DATA_DIR / \"semantic_clusters/all-8-processed-clusters.tsv\"):\n",
    "    TplCluster = namedtuple(\"TplCluster\", [\"tpl_to_cluster\", \"cluster_to_tpl\"])\n",
    "\n",
    "    tpl_to_cluster = {}\n",
    "    cluster_to_tpl = defaultdict(set)\n",
    "    for line in open(path, \"r\"):\n",
    "        tpl, cluster = line.strip().split(\"\\t\")\n",
    "        tpl_to_cluster[tpl] = cluster\n",
    "        cluster_to_tpl[cluster].add(tpl)\n",
    "    return TplCluster(tpl_to_cluster, dict(cluster_to_tpl))\n",
    "\n",
    "template_clusters = load_template_clusters(DATA_DIR / \"semantic_clusters/all-8-processed-clusters-norm-50.tsv\")\n"
   ]
  },
  {
   "cell_type": "code",
   "execution_count": 6,
   "id": "fdef8ba6",
   "metadata": {},
   "outputs": [
    {
     "name": "stderr",
     "output_type": "stream",
     "text": [
      "\r",
      "  0%|          | 0/157 [00:00<?, ?it/s]"
     ]
    },
    {
     "name": "stdout",
     "output_type": "stream",
     "text": [
      "/shared/2/projects/meme-culture/data/RS_2014-12.gz\n",
      "/shared/2/projects/meme-culture/data/RS_2011-12.gz\n",
      "/shared/2/projects/meme-culture/data/RS_2017-12.gz\n"
     ]
    },
    {
     "name": "stderr",
     "output_type": "stream",
     "text": [
      "\r",
      "  2%|▏         | 3/157 [00:00<00:22,  6.71it/s]"
     ]
    },
    {
     "name": "stdout",
     "output_type": "stream",
     "text": [
      "/shared/2/projects/meme-culture/data/RS_2012-07.gz\n",
      "/shared/2/projects/meme-culture/data/RS_2014-07.gz\n",
      "/shared/2/projects/meme-culture/data/RS_v2_2009-08.gz\n",
      "/shared/2/projects/meme-culture/data/RS_v2_2008-11.gz\n",
      "/shared/2/projects/meme-culture/data/RS_v2_2009-03.gz\n",
      "/shared/2/projects/meme-culture/data/RS_2011-02.gz\n",
      "/shared/2/projects/meme-culture/data/RS_2012-03.gz\n",
      "/shared/2/projects/meme-culture/data/RS_2021-06.gz\n"
     ]
    },
    {
     "name": "stderr",
     "output_type": "stream",
     "text": [
      "\r",
      "  7%|▋         | 11/157 [00:02<00:36,  3.95it/s]"
     ]
    },
    {
     "name": "stdout",
     "output_type": "stream",
     "text": [
      "/shared/2/projects/meme-culture/data/RS_2020-12.gz\n"
     ]
    },
    {
     "name": "stderr",
     "output_type": "stream",
     "text": [
      " 11%|█         | 17/157 [00:05<00:47,  2.96it/s]"
     ]
    },
    {
     "name": "stdout",
     "output_type": "stream",
     "text": [
      "/shared/2/projects/meme-culture/data/RS_2015-04.gz\n",
      "/shared/2/projects/meme-culture/data/RS_2016-05.gz\n",
      "/shared/2/projects/meme-culture/data/RS_2011-09.gz\n",
      "/shared/2/projects/meme-culture/data/RS_v2_2010-04.gz\n",
      "/shared/2/projects/meme-culture/data/RS_2016-07.gz\n",
      "/shared/2/projects/meme-culture/data/RS_2013-01.gz\n",
      "/shared/2/projects/meme-culture/data/RS_2020-02.gz\n"
     ]
    },
    {
     "name": "stderr",
     "output_type": "stream",
     "text": [
      "\r",
      " 12%|█▏        | 19/157 [00:09<01:29,  1.55it/s]"
     ]
    },
    {
     "name": "stdout",
     "output_type": "stream",
     "text": [
      "/shared/2/projects/meme-culture/data/RS_2018-09.gz\n"
     ]
    },
    {
     "name": "stderr",
     "output_type": "stream",
     "text": [
      "\r",
      " 13%|█▎        | 21/157 [00:10<01:23,  1.63it/s]"
     ]
    },
    {
     "name": "stdout",
     "output_type": "stream",
     "text": [
      "/shared/2/projects/meme-culture/data/RS_v2_2010-05.gz\n",
      "/shared/2/projects/meme-culture/data/RS_2019-05.gz\n"
     ]
    },
    {
     "name": "stderr",
     "output_type": "stream",
     "text": [
      "\r",
      " 14%|█▍        | 22/157 [00:21<04:34,  2.03s/it]"
     ]
    },
    {
     "name": "stdout",
     "output_type": "stream",
     "text": [
      "/shared/2/projects/meme-culture/data/RS_2021-05.gz\n"
     ]
    },
    {
     "name": "stderr",
     "output_type": "stream",
     "text": [
      "\r",
      " 15%|█▍        | 23/157 [00:24<05:05,  2.28s/it]"
     ]
    },
    {
     "name": "stdout",
     "output_type": "stream",
     "text": [
      "/shared/2/projects/meme-culture/data/RS_2019-02.gz\n"
     ]
    },
    {
     "name": "stderr",
     "output_type": "stream",
     "text": [
      "\r",
      " 15%|█▌        | 24/157 [00:27<05:06,  2.31s/it]"
     ]
    },
    {
     "name": "stdout",
     "output_type": "stream",
     "text": [
      "/shared/2/projects/meme-culture/data/RS_2013-04.gz\n",
      "/shared/2/projects/meme-culture/data/RS_2021-02.gz\n"
     ]
    },
    {
     "name": "stderr",
     "output_type": "stream",
     "text": [
      "\r",
      " 17%|█▋        | 26/157 [00:29<04:12,  1.92s/it]"
     ]
    },
    {
     "name": "stdout",
     "output_type": "stream",
     "text": [
      "/shared/2/projects/meme-culture/data/RS_2018-03.gz\n"
     ]
    },
    {
     "name": "stderr",
     "output_type": "stream",
     "text": [
      "\r",
      " 17%|█▋        | 27/157 [00:30<03:36,  1.67s/it]"
     ]
    },
    {
     "name": "stdout",
     "output_type": "stream",
     "text": [
      "/shared/2/projects/meme-culture/data/RS_2016-02.gz\n",
      "/shared/2/projects/meme-culture/data/RS_2018-11.gz\n"
     ]
    },
    {
     "name": "stderr",
     "output_type": "stream",
     "text": [
      "\r",
      " 18%|█▊        | 29/157 [00:31<02:48,  1.32s/it]"
     ]
    },
    {
     "name": "stdout",
     "output_type": "stream",
     "text": [
      "/shared/2/projects/meme-culture/data/RS_2013-11.gz\n",
      "/shared/2/projects/meme-culture/data/RS_2013-10.gz\n",
      "/shared/2/projects/meme-culture/data/RS_2012-01.gz\n",
      "/shared/2/projects/meme-culture/data/RS_2017-07.gz\n"
     ]
    },
    {
     "name": "stderr",
     "output_type": "stream",
     "text": [
      "\r",
      " 21%|██        | 33/157 [00:32<01:30,  1.37it/s]"
     ]
    },
    {
     "name": "stdout",
     "output_type": "stream",
     "text": [
      "/shared/2/projects/meme-culture/data/RS_2016-09.gz\n",
      "/shared/2/projects/meme-culture/data/RS_v2_2008-12.gz\n",
      "/shared/2/projects/meme-culture/data/RS_2016-12.gz\n"
     ]
    },
    {
     "name": "stderr",
     "output_type": "stream",
     "text": [
      "\r",
      " 23%|██▎       | 36/157 [00:33<01:07,  1.78it/s]"
     ]
    },
    {
     "name": "stdout",
     "output_type": "stream",
     "text": [
      "/shared/2/projects/meme-culture/data/RS_2018-08.gz\n"
     ]
    },
    {
     "name": "stderr",
     "output_type": "stream",
     "text": [
      "\r",
      " 24%|██▎       | 37/157 [00:34<01:14,  1.61it/s]"
     ]
    },
    {
     "name": "stdout",
     "output_type": "stream",
     "text": [
      "/shared/2/projects/meme-culture/data/RS_2020-03.gz\n"
     ]
    },
    {
     "name": "stderr",
     "output_type": "stream",
     "text": [
      " 28%|██▊       | 44/157 [00:38<00:57,  1.97it/s]"
     ]
    },
    {
     "name": "stdout",
     "output_type": "stream",
     "text": [
      "/shared/2/projects/meme-culture/data/RS_2014-03.gz\n",
      "/shared/2/projects/meme-culture/data/RS_2015-05.gz\n",
      "/shared/2/projects/meme-culture/data/RS_v2_2009-09.gz\n",
      "/shared/2/projects/meme-culture/data/RS_2014-02.gz\n",
      "/shared/2/projects/meme-culture/data/RS_2014-11.gz\n",
      "/shared/2/projects/meme-culture/data/RS_2012-06.gz\n",
      "/shared/2/projects/meme-culture/data/RS_2019-08.gz\n"
     ]
    },
    {
     "name": "stderr",
     "output_type": "stream",
     "text": [
      "\r",
      " 29%|██▉       | 46/157 [00:41<01:25,  1.29it/s]"
     ]
    },
    {
     "name": "stdout",
     "output_type": "stream",
     "text": [
      "/shared/2/projects/meme-culture/data/RS_v2_2009-10.gz\n",
      "/shared/2/projects/meme-culture/data/RS_v2_2010-09.gz\n",
      "/shared/2/projects/meme-culture/data/RS_2011-04.gz\n",
      "/shared/2/projects/meme-culture/data/RS_2013-02.gz\n",
      "/shared/2/projects/meme-culture/data/RS_2015-09.gz\n",
      "/shared/2/projects/meme-culture/data/RS_2011-01.gz\n",
      "/shared/2/projects/meme-culture/data/RS_2011-05.gz\n",
      "/shared/2/projects/meme-culture/data/RS_2014-09.gz\n",
      "/shared/2/projects/meme-culture/data/RS_v2_2009-12.gz\n",
      "/shared/2/projects/meme-culture/data/RS_v2_2008-09.gz\n",
      "/shared/2/projects/meme-culture/data/RS_2011-08.gz\n",
      "/shared/2/projects/meme-culture/data/RS_2019-01.gz\n"
     ]
    },
    {
     "name": "stderr",
     "output_type": "stream",
     "text": [
      " 36%|███▋      | 57/157 [00:54<01:43,  1.03s/it]"
     ]
    },
    {
     "name": "stdout",
     "output_type": "stream",
     "text": [
      "/shared/2/projects/meme-culture/data/RS_v2_2010-08.gz\n",
      "/shared/2/projects/meme-culture/data/RS_2020-08.gz\n"
     ]
    },
    {
     "name": "stderr",
     "output_type": "stream",
     "text": [
      "\r",
      " 38%|███▊      | 59/157 [00:58<01:56,  1.19s/it]"
     ]
    },
    {
     "name": "stdout",
     "output_type": "stream",
     "text": [
      "/shared/2/projects/meme-culture/data/RS_v2_2010-12.gz\n",
      "/shared/2/projects/meme-culture/data/RS_v2_2008-07.gz\n",
      "/shared/2/projects/meme-culture/data/RS_2017-02.gz\n"
     ]
    },
    {
     "name": "stderr",
     "output_type": "stream",
     "text": [
      "\r",
      " 39%|███▉      | 62/157 [00:59<01:28,  1.07it/s]"
     ]
    },
    {
     "name": "stdout",
     "output_type": "stream",
     "text": [
      "/shared/2/projects/meme-culture/data/RS_2012-12.gz\n",
      "/shared/2/projects/meme-culture/data/RS_v2_2009-02.gz\n",
      "/shared/2/projects/meme-culture/data/RS_2013-05.gz\n",
      "/shared/2/projects/meme-culture/data/RS_v2_2010-11.gz\n",
      "/shared/2/projects/meme-culture/data/RS_v2_2009-01.gz\n",
      "/shared/2/projects/meme-culture/data/RS_v2_2010-01.gz\n",
      "/shared/2/projects/meme-culture/data/RS_v2_2009-06.gz\n",
      "/shared/2/projects/meme-culture/data/RS_v2_2008-10.gz\n",
      "/shared/2/projects/meme-culture/data/RS_2014-08.gz\n",
      "/shared/2/projects/meme-culture/data/RS_2019-09.gz\n"
     ]
    },
    {
     "name": "stderr",
     "output_type": "stream",
     "text": [
      "\r",
      " 46%|████▌     | 72/157 [01:02<00:52,  1.60it/s]"
     ]
    },
    {
     "name": "stdout",
     "output_type": "stream",
     "text": [
      "/shared/2/projects/meme-culture/data/RS_v2_2010-07.gz\n",
      "/shared/2/projects/meme-culture/data/RS_2015-02.gz\n",
      "/shared/2/projects/meme-culture/data/RS_v2_2009-07.gz\n",
      "/shared/2/projects/meme-culture/data/RS_2015-10.gz\n",
      "/shared/2/projects/meme-culture/data/RS_2020-06.gz\n"
     ]
    },
    {
     "name": "stderr",
     "output_type": "stream",
     "text": [
      "\r",
      " 49%|████▉     | 77/157 [01:06<00:54,  1.47it/s]"
     ]
    },
    {
     "name": "stdout",
     "output_type": "stream",
     "text": [
      "/shared/2/projects/meme-culture/data/RS_2012-10.gz\n",
      "/shared/2/projects/meme-culture/data/RS_2012-02.gz\n",
      "/shared/2/projects/meme-culture/data/RS_2017-05.gz\n"
     ]
    },
    {
     "name": "stderr",
     "output_type": "stream",
     "text": [
      " 52%|█████▏    | 81/157 [01:08<00:45,  1.67it/s]"
     ]
    },
    {
     "name": "stdout",
     "output_type": "stream",
     "text": [
      "/shared/2/projects/meme-culture/data/RS_2016-10.gz\n",
      "/shared/2/projects/meme-culture/data/RS_2018-04.gz\n"
     ]
    },
    {
     "name": "stderr",
     "output_type": "stream",
     "text": [
      "\r",
      " 52%|█████▏    | 82/157 [01:09<00:45,  1.64it/s]"
     ]
    },
    {
     "name": "stdout",
     "output_type": "stream",
     "text": [
      "/shared/2/projects/meme-culture/data/RS_2020-11.gz\n"
     ]
    },
    {
     "name": "stderr",
     "output_type": "stream",
     "text": [
      "\r",
      " 53%|█████▎    | 83/157 [01:12<01:14,  1.01s/it]"
     ]
    },
    {
     "name": "stdout",
     "output_type": "stream",
     "text": [
      "/shared/2/projects/meme-culture/data/RS_2014-10.gz\n",
      "/shared/2/projects/meme-culture/data/RS_2017-04.gz\n"
     ]
    },
    {
     "name": "stderr",
     "output_type": "stream",
     "text": [
      "\r",
      " 54%|█████▍    | 85/157 [01:13<00:57,  1.26it/s]"
     ]
    },
    {
     "name": "stdout",
     "output_type": "stream",
     "text": [
      "/shared/2/projects/meme-culture/data/RS_2018-05.gz\n"
     ]
    },
    {
     "name": "stderr",
     "output_type": "stream",
     "text": [
      "\r",
      " 55%|█████▍    | 86/157 [01:14<00:57,  1.24it/s]"
     ]
    },
    {
     "name": "stdout",
     "output_type": "stream",
     "text": [
      "/shared/2/projects/meme-culture/data/RS_2020-07.gz\n"
     ]
    },
    {
     "name": "stderr",
     "output_type": "stream",
     "text": [
      "\r",
      " 55%|█████▌    | 87/157 [01:18<01:42,  1.46s/it]"
     ]
    },
    {
     "name": "stdout",
     "output_type": "stream",
     "text": [
      "/shared/2/projects/meme-culture/data/RS_2016-04.gz\n",
      "/shared/2/projects/meme-culture/data/RS_2020-01.gz\n"
     ]
    },
    {
     "name": "stderr",
     "output_type": "stream",
     "text": [
      "\r",
      " 57%|█████▋    | 89/157 [01:22<01:49,  1.61s/it]"
     ]
    },
    {
     "name": "stdout",
     "output_type": "stream",
     "text": [
      "/shared/2/projects/meme-culture/data/RS_2015-12.gz\n",
      "/shared/2/projects/meme-culture/data/RS_2012-08.gz\n",
      "/shared/2/projects/meme-culture/data/RS_v2_2010-10.gz\n",
      "/shared/2/projects/meme-culture/data/RS_2018-01.gz\n"
     ]
    },
    {
     "name": "stderr",
     "output_type": "stream",
     "text": [
      "\r",
      " 59%|█████▉    | 93/157 [01:22<00:55,  1.15it/s]"
     ]
    },
    {
     "name": "stdout",
     "output_type": "stream",
     "text": [
      "/shared/2/projects/meme-culture/data/RS_2019-10.gz\n"
     ]
    },
    {
     "name": "stderr",
     "output_type": "stream",
     "text": [
      "\r",
      " 60%|█████▉    | 94/157 [01:39<03:25,  3.27s/it]"
     ]
    },
    {
     "name": "stdout",
     "output_type": "stream",
     "text": [
      "/shared/2/projects/meme-culture/data/RS_2018-07.gz\n"
     ]
    },
    {
     "name": "stderr",
     "output_type": "stream",
     "text": [
      "\r",
      " 61%|██████    | 95/157 [01:40<02:56,  2.84s/it]"
     ]
    },
    {
     "name": "stdout",
     "output_type": "stream",
     "text": [
      "/shared/2/projects/meme-culture/data/RS_2011-03.gz\n",
      "/shared/2/projects/meme-culture/data/RS_v2_2009-11.gz\n",
      "/shared/2/projects/meme-culture/data/RS_2014-04.gz\n",
      "/shared/2/projects/meme-culture/data/RS_2018-02.gz\n"
     ]
    },
    {
     "name": "stderr",
     "output_type": "stream",
     "text": [
      "\r",
      " 63%|██████▎   | 99/157 [01:40<01:25,  1.47s/it]"
     ]
    },
    {
     "name": "stdout",
     "output_type": "stream",
     "text": [
      "/shared/2/projects/meme-culture/data/RS_v2_2010-03.gz\n",
      "/shared/2/projects/meme-culture/data/RS_2016-01.gz\n",
      "/shared/2/projects/meme-culture/data/RS_2019-07-01-24.gz\n"
     ]
    },
    {
     "name": "stderr",
     "output_type": "stream",
     "text": [
      "\r",
      " 65%|██████▍   | 102/157 [01:43<01:09,  1.27s/it]"
     ]
    },
    {
     "name": "stdout",
     "output_type": "stream",
     "text": [
      "/shared/2/projects/meme-culture/data/RS_2020-05.gz\n"
     ]
    },
    {
     "name": "stderr",
     "output_type": "stream",
     "text": [
      " 69%|██████▉   | 108/157 [01:47<00:41,  1.17it/s]"
     ]
    },
    {
     "name": "stdout",
     "output_type": "stream",
     "text": [
      "/shared/2/projects/meme-culture/data/RS_2012-11.gz\n",
      "/shared/2/projects/meme-culture/data/RS_2015-08.gz\n",
      "/shared/2/projects/meme-culture/data/RS_2013-12.gz\n",
      "/shared/2/projects/meme-culture/data/RS_2011-10.gz\n",
      "/shared/2/projects/meme-culture/data/RS_2015-06.gz\n",
      "/shared/2/projects/meme-culture/data/RS_2018-12.gz\n",
      "/shared/2/projects/meme-culture/data/RS_2019-03.gz\n"
     ]
    },
    {
     "name": "stderr",
     "output_type": "stream",
     "text": [
      "\r",
      " 70%|███████   | 110/157 [01:52<00:56,  1.20s/it]"
     ]
    },
    {
     "name": "stdout",
     "output_type": "stream",
     "text": [
      "/shared/2/projects/meme-culture/data/RS_2018-10.gz\n",
      "/shared/2/projects/meme-culture/data/RS_2019-04.gz\n"
     ]
    },
    {
     "name": "stderr",
     "output_type": "stream",
     "text": [
      "\r",
      " 71%|███████▏  | 112/157 [01:57<01:06,  1.48s/it]"
     ]
    },
    {
     "name": "stdout",
     "output_type": "stream",
     "text": [
      "/shared/2/projects/meme-culture/data/RS_2020-10.gz\n"
     ]
    },
    {
     "name": "stderr",
     "output_type": "stream",
     "text": [
      "\r",
      " 72%|███████▏  | 113/157 [02:00<01:18,  1.78s/it]"
     ]
    },
    {
     "name": "stdout",
     "output_type": "stream",
     "text": [
      "/shared/2/projects/meme-culture/data/RS_v2_2010-02.gz\n",
      "/shared/2/projects/meme-culture/data/RS_v2_2009-05.gz\n",
      "/shared/2/projects/meme-culture/data/RS_2019-07.gz\n"
     ]
    },
    {
     "name": "stderr",
     "output_type": "stream",
     "text": [
      "\r",
      " 74%|███████▍  | 116/157 [02:04<01:04,  1.57s/it]"
     ]
    },
    {
     "name": "stdout",
     "output_type": "stream",
     "text": [
      "/shared/2/projects/meme-culture/data/RS_2017-10.gz\n"
     ]
    },
    {
     "name": "stderr",
     "output_type": "stream",
     "text": [
      "\r",
      " 75%|███████▍  | 117/157 [02:05<00:56,  1.40s/it]"
     ]
    },
    {
     "name": "stdout",
     "output_type": "stream",
     "text": [
      "/shared/2/projects/meme-culture/data/RS_2012-09.gz\n",
      "/shared/2/projects/meme-culture/data/RS_2021-01.gz\n"
     ]
    },
    {
     "name": "stderr",
     "output_type": "stream",
     "text": [
      "\r",
      " 76%|███████▌  | 119/157 [02:08<00:56,  1.48s/it]"
     ]
    },
    {
     "name": "stdout",
     "output_type": "stream",
     "text": [
      "/shared/2/projects/meme-culture/data/RS_2016-06.gz\n",
      "/shared/2/projects/meme-culture/data/RS_2014-06.gz\n",
      "/shared/2/projects/meme-culture/data/RS_2015-07.gz\n",
      "/shared/2/projects/meme-culture/data/RS_2020-04.gz\n"
     ]
    },
    {
     "name": "stderr",
     "output_type": "stream",
     "text": [
      "\r",
      " 78%|███████▊  | 123/157 [02:12<00:42,  1.26s/it]"
     ]
    },
    {
     "name": "stdout",
     "output_type": "stream",
     "text": [
      "/shared/2/projects/meme-culture/data/RS_2011-11.gz\n",
      "/shared/2/projects/meme-culture/data/RS_2019-06.gz\n"
     ]
    },
    {
     "name": "stderr",
     "output_type": "stream",
     "text": [
      " 82%|████████▏ | 129/157 [02:37<01:06,  2.37s/it]"
     ]
    },
    {
     "name": "stdout",
     "output_type": "stream",
     "text": [
      "/shared/2/projects/meme-culture/data/RS_2011-07.gz\n",
      "/shared/2/projects/meme-culture/data/RS_v2_2009-04.gz\n",
      "/shared/2/projects/meme-culture/data/RS_2014-01.gz\n",
      "/shared/2/projects/meme-culture/data/RS_2016-08.gz\n",
      "/shared/2/projects/meme-culture/data/RS_2013-03.gz\n",
      "/shared/2/projects/meme-culture/data/RS_2019-12.gz\n"
     ]
    },
    {
     "name": "stderr",
     "output_type": "stream",
     "text": [
      "\r",
      " 83%|████████▎ | 131/157 [02:41<00:59,  2.28s/it]"
     ]
    },
    {
     "name": "stdout",
     "output_type": "stream",
     "text": [
      "/shared/2/projects/meme-culture/data/RS_2011-06.gz\n",
      "/shared/2/projects/meme-culture/data/RS_2017-09.gz\n"
     ]
    },
    {
     "name": "stderr",
     "output_type": "stream",
     "text": [
      "\r",
      " 85%|████████▍ | 133/157 [02:41<00:42,  1.77s/it]"
     ]
    },
    {
     "name": "stdout",
     "output_type": "stream",
     "text": [
      "/shared/2/projects/meme-culture/data/RS_2014-05.gz\n",
      "/shared/2/projects/meme-culture/data/RS_2013-09.gz\n",
      "/shared/2/projects/meme-culture/data/RS_2019-11.gz\n"
     ]
    },
    {
     "name": "stderr",
     "output_type": "stream",
     "text": [
      "\r",
      " 87%|████████▋ | 136/157 [02:46<00:35,  1.69s/it]"
     ]
    },
    {
     "name": "stdout",
     "output_type": "stream",
     "text": [
      "/shared/2/projects/meme-culture/data/RS_2012-04.gz\n",
      "/shared/2/projects/meme-culture/data/RS_2017-01.gz\n"
     ]
    },
    {
     "name": "stderr",
     "output_type": "stream",
     "text": [
      "\r",
      " 88%|████████▊ | 138/157 [02:46<00:24,  1.31s/it]"
     ]
    },
    {
     "name": "stdout",
     "output_type": "stream",
     "text": [
      "/shared/2/projects/meme-culture/data/RS_2015-11.gz\n",
      "/shared/2/projects/meme-culture/data/RS_2017-08.gz\n"
     ]
    },
    {
     "name": "stderr",
     "output_type": "stream",
     "text": [
      "\r",
      " 89%|████████▉ | 140/157 [02:47<00:17,  1.03s/it]"
     ]
    },
    {
     "name": "stdout",
     "output_type": "stream",
     "text": [
      "/shared/2/projects/meme-culture/data/RS_2013-08.gz\n",
      "/shared/2/projects/meme-culture/data/RS_2017-03.gz\n"
     ]
    },
    {
     "name": "stderr",
     "output_type": "stream",
     "text": [
      " 92%|█████████▏| 144/157 [02:47<00:08,  1.60it/s]"
     ]
    },
    {
     "name": "stdout",
     "output_type": "stream",
     "text": [
      "/shared/2/projects/meme-culture/data/RS_v2_2008-08.gz\n",
      "/shared/2/projects/meme-culture/data/RS_2016-11.gz\n",
      "/shared/2/projects/meme-culture/data/RS_2017-06.gz\n"
     ]
    },
    {
     "name": "stderr",
     "output_type": "stream",
     "text": [
      "\r",
      " 92%|█████████▏| 145/157 [02:48<00:07,  1.67it/s]"
     ]
    },
    {
     "name": "stdout",
     "output_type": "stream",
     "text": [
      "/shared/2/projects/meme-culture/data/RS_2015-01.gz\n",
      "/shared/2/projects/meme-culture/data/RS_2016-03.gz\n",
      "/shared/2/projects/meme-culture/data/RS_2020-09.gz\n"
     ]
    },
    {
     "name": "stderr",
     "output_type": "stream",
     "text": [
      "\r",
      " 94%|█████████▍| 148/157 [02:52<00:08,  1.10it/s]"
     ]
    },
    {
     "name": "stdout",
     "output_type": "stream",
     "text": [
      "/shared/2/projects/meme-culture/data/RS_2013-07.gz\n",
      "/shared/2/projects/meme-culture/data/RS_2015-03.gz\n",
      "/shared/2/projects/meme-culture/data/RS_2012-05.gz\n",
      "/shared/2/projects/meme-culture/data/RS_2021-03.gz\n"
     ]
    },
    {
     "name": "stderr",
     "output_type": "stream",
     "text": [
      "\r",
      " 97%|█████████▋| 152/157 [02:55<00:04,  1.19it/s]"
     ]
    },
    {
     "name": "stdout",
     "output_type": "stream",
     "text": [
      "/shared/2/projects/meme-culture/data/RS_v2_2010-06.gz\n",
      "/shared/2/projects/meme-culture/data/RS_2017-11.gz\n"
     ]
    },
    {
     "name": "stderr",
     "output_type": "stream",
     "text": [
      "\r",
      " 98%|█████████▊| 154/157 [02:55<00:02,  1.43it/s]"
     ]
    },
    {
     "name": "stdout",
     "output_type": "stream",
     "text": [
      "/shared/2/projects/meme-culture/data/RS_2013-06.gz\n",
      "/shared/2/projects/meme-culture/data/RS_2021-04.gz\n"
     ]
    },
    {
     "name": "stderr",
     "output_type": "stream",
     "text": [
      "\r",
      " 99%|█████████▉| 156/157 [02:58<00:00,  1.15it/s]"
     ]
    },
    {
     "name": "stdout",
     "output_type": "stream",
     "text": [
      "/shared/2/projects/meme-culture/data/RS_2018-06.gz\n"
     ]
    },
    {
     "name": "stderr",
     "output_type": "stream",
     "text": [
      "100%|██████████| 157/157 [02:59<00:00,  1.14s/it]\n"
     ]
    }
   ],
   "source": [
    "subreddit_info = read_id_to_info()"
   ]
  },
  {
   "cell_type": "code",
   "execution_count": 7,
   "id": "c942f179",
   "metadata": {},
   "outputs": [
    {
     "data": {
      "application/vnd.jupyter.widget-view+json": {
       "model_id": "6d6d78a6f946460f870ee46a78453a8b",
       "version_major": 2,
       "version_minor": 0
      },
      "text/plain": [
       "  0%|          | 0/27494802 [00:00<?, ?it/s]"
      ]
     },
     "metadata": {},
     "output_type": "display_data"
    },
    {
     "data": {
      "application/vnd.jupyter.widget-view+json": {
       "model_id": "4d463fe0db4c4e239a935a86283595f7",
       "version_major": 2,
       "version_minor": 0
      },
      "text/plain": [
       "  0%|          | 0/784 [00:00<?, ?it/s]"
      ]
     },
     "metadata": {},
     "output_type": "display_data"
    }
   ],
   "source": [
    "def template_to_ids(tpl):\n",
    "    ids = set()\n",
    "    phashes = hc.cluster_to_hash[tpl]\n",
    "    for phash in phashes:\n",
    "        ids.update(hc.hash_to_ids[phash])\n",
    "    return ids\n",
    "\n",
    "def get_instances(templates):\n",
    "    return list(itertools.chain.from_iterable([\n",
    "        [dict(template=template, **subreddit_info[pid]._asdict()) for pid in template_to_ids(template)] for template in templates\n",
    "    ]))\n",
    "\n",
    "def posts_in_subs(subs):\n",
    "    instances = []\n",
    "    for cluster in tqdm(template_clusters.cluster_to_tpl):\n",
    "        instances += posts_in_subs_and_cluster(subs, cluster)\n",
    "    return instances\n",
    "        \n",
    "def posts_in_subs_and_cluster(subs, cluster):\n",
    "    templates = template_clusters.cluster_to_tpl[cluster]\n",
    "    instances = get_instances(templates)\n",
    "    return [{\"cluster\": cluster, **instance} for instance in instances if instance[\"subreddit\"] in subs]\n",
    "\n",
    "all_subs_in_dataset = set([post.subreddit for post in tqdm(subreddit_info.values())])\n",
    "all_memes = posts_in_subs(all_subs_in_dataset)\n",
    "df = pd.DataFrame(all_memes)"
   ]
  },
  {
   "cell_type": "code",
   "execution_count": 8,
   "id": "cc377bc2",
   "metadata": {
    "scrolled": true
   },
   "outputs": [
    {
     "name": "stdout",
     "output_type": "stream",
     "text": [
      "There are 3825199 posts\n",
      "There are 784 semantic clusters.\n"
     ]
    }
   ],
   "source": [
    "print(f\"There are {len(df)} posts\")\n",
    "print(f\"There are {len(df.cluster.value_counts())} semantic clusters.\")"
   ]
  },
  {
   "cell_type": "markdown",
   "id": "bc928047",
   "metadata": {},
   "source": [
    "# Variation"
   ]
  },
  {
   "cell_type": "code",
   "execution_count": 9,
   "id": "5bf9fc0f",
   "metadata": {},
   "outputs": [],
   "source": [
    "from collections import namedtuple, defaultdict\n",
    "DocTermMatrix = namedtuple(\"DocTermMatrix\", (\"mat\", \"idx2word\", \"word2idx\", \"idx2doc\", \"doc2idx\"))\n",
    "\n",
    "def create_doc_term_mat(df, document_col, word_col, progress=False):\n",
    "    idx2word = list(df[word_col].unique())\n",
    "    word2idx = {v: k for k, v in enumerate(idx2word)}\n",
    "    idx2doc = list(df[document_col].unique())\n",
    "    doc2idx = {v: k for k, v in enumerate(idx2doc)}\n",
    "    mat = np.zeros((len(doc2idx), len(word2idx)))\n",
    "    for doc, word in tqdm(zip(df[document_col], df[word_col]), total=len(df), disable=not progress):\n",
    "        mat[doc2idx[doc]][word2idx[word]] += 1\n",
    "        \n",
    "    return DocTermMatrix(mat, idx2word, word2idx, idx2doc, doc2idx)\n",
    "\n",
    "\n",
    "def logodds(matrix, group1, group2=None, min_occurrences=0, zscore=True):\n",
    "    \"\"\"\n",
    "    Compute log odds for one against rest for K documents with N total unique words.\n",
    "    \n",
    "    The prior is computed over all of the words\n",
    "    \n",
    "    Filter out words with less than min_occurrences co-occurrences.\n",
    "    \"\"\"\n",
    "    if not (isinstance(group1, set) or isinstance(group1, list)):\n",
    "        group1 = set([group1])\n",
    "    if not (isinstance(group2, set) or isinstance(group2, list)):\n",
    "        group2 = set([group2])\n",
    "        \n",
    "    mat = matrix.mat.copy()\n",
    "    mat[mat < min_occurrences] = 0\n",
    "\n",
    "    _check_group1 = lambda x: x in group1\n",
    "    _check_group2 = lambda x: (x in group2) if group2 is not None else (not _check_group1(x))\n",
    "    \n",
    "    eps = 1e-8\n",
    "    def _log_odds_delta(mat, group1_idx, group2_idx, zscore):\n",
    "        n_prior = mat.sum()\n",
    "        g_1 = mat[group1_idx].sum(axis=0)\n",
    "        g_2 = mat[group2_idx].sum(axis=0)\n",
    "        n_1 = g_1.sum()\n",
    "        n_2 = g_2.sum()\n",
    "\n",
    "        prior = mat.sum(axis=0)\n",
    "\n",
    "        l1 = (g_1 + prior) / ((n_1 + n_prior) - (g_1 + prior))\n",
    "        l2 = (g_2 + prior) / ((n_2 + n_prior) - (g_2 + prior))\n",
    "        delta = (np.log(l1) - np.log(l2))\n",
    "        if zscore:\n",
    "            sigma = np.sqrt(1 / (g_1 + prior) + 1 / (g_2 + prior))\n",
    "            delta = delta / sigma\n",
    "\n",
    "        return delta\n",
    "\n",
    "\n",
    "    group1_idx = [idx for idx, doc in enumerate(matrix.idx2doc) if _check_group1(doc)]\n",
    "    group2_idx = [idx for idx, doc in enumerate(matrix.idx2doc) if _check_group2(doc)]\n",
    "\n",
    "    return _log_odds_delta(mat, group1_idx, group2_idx, zscore=zscore)"
   ]
  },
  {
   "cell_type": "code",
   "execution_count": 10,
   "id": "87fcbfac",
   "metadata": {},
   "outputs": [],
   "source": [
    "def show_log_odds(df, document_col, word_col, group2=None, zscore=True, threshold=2):\n",
    "    matrix = create_doc_term_mat(df, document_col, word_col)\n",
    "    \n",
    "    for c in matrix.doc2idx:\n",
    "        lor = logodds(matrix, group1=c, group2=group2, zscore=zscore)\n",
    "        print(c)\n",
    "        for i in np.argsort(-np.abs(lor))[:10]:\n",
    "            if np.abs(lor[i]) >= threshold:\n",
    "                print(\"\\t\" + matrix.idx2word[i] + \"\\t\\t\" + str(lor[i]))"
   ]
  },
  {
   "cell_type": "markdown",
   "id": "05eb3821",
   "metadata": {},
   "source": [
    "## Does variation exist?"
   ]
  },
  {
   "cell_type": "code",
   "execution_count": 11,
   "id": "bf82cb30",
   "metadata": {},
   "outputs": [
    {
     "data": {
      "application/vnd.jupyter.widget-view+json": {
       "model_id": "ba2febe5f04f44b687d6e675450cecb0",
       "version_major": 2,
       "version_minor": 0
      },
      "text/plain": [
       "  0%|          | 0/100 [00:00<?, ?it/s]"
      ]
     },
     "metadata": {},
     "output_type": "display_data"
    }
   ],
   "source": [
    "topk = df.cluster.value_counts().index[:100]\n",
    "all_pairs = []\n",
    "for clu in tqdm(topk):\n",
    "    matrix = create_doc_term_mat(df[df.cluster.eq(clu)], \"subreddit\", \"template\")\n",
    "    \n",
    "    for c in matrix.doc2idx:\n",
    "        lor = logodds(matrix, group1=c, zscore=True)\n",
    "        for i in np.argsort(-lor):\n",
    "            if (lor[i]) > 1.96:\n",
    "                all_pairs.append((c, clu, matrix.idx2word[i], lor[i]))"
   ]
  },
  {
   "cell_type": "code",
   "execution_count": 12,
   "id": "17865f47",
   "metadata": {},
   "outputs": [],
   "source": [
    "significant = pd.DataFrame(all_pairs, columns=[\"subreddit\", \"cluster\", \"template\", \"zscore\"])"
   ]
  },
  {
   "cell_type": "code",
   "execution_count": 13,
   "id": "0bf40559",
   "metadata": {},
   "outputs": [
    {
     "name": "stdout",
     "output_type": "stream",
     "text": [
      "There is significant variation in 94 semantic clusters\n"
     ]
    }
   ],
   "source": [
    "print(f\"There is significant variation in {len(significant.cluster.unique())} semantic clusters\")"
   ]
  },
  {
   "cell_type": "code",
   "execution_count": 14,
   "id": "8be79a5d",
   "metadata": {},
   "outputs": [
    {
     "name": "stdout",
     "output_type": "stream",
     "text": [
      "This spans 391 templates and 26 subreddits\n"
     ]
    }
   ],
   "source": [
    "print(f\"This spans {len(significant.template.unique())} templates and {len(significant.subreddit.unique())} subreddits\")\n"
   ]
  },
  {
   "cell_type": "markdown",
   "id": "dd44e366",
   "metadata": {},
   "source": [
    "Some variables with notable variation:\n",
    "\n",
    "- Cluster 1 is the compare2 cluster\n",
    "- Cluster 0 is the declarative cluster\n",
    "- Cluster 139 is a \"said displeasing thing\" cluster\n",
    "- Cluster 30 is a surprise narrative cluster\n",
    "- Cluster 15 is a scalar cluster\n",
    "- 14 is concern\n",
    "- 19 is looming threat?\n",
    "\n",
    "- Cluster 39 is self-satisfied"
   ]
  },
  {
   "cell_type": "code",
   "execution_count": 15,
   "id": "118141cb",
   "metadata": {},
   "outputs": [
    {
     "data": {
      "text/plain": [
       "3.7583405446933598"
      ]
     },
     "execution_count": 15,
     "metadata": {},
     "output_type": "execute_result"
    }
   ],
   "source": [
    "significant.zscore.mean()"
   ]
  },
  {
   "cell_type": "code",
   "execution_count": 38,
   "id": "700bbfcb",
   "metadata": {},
   "outputs": [
    {
     "data": {
      "text/html": [
       "<div>\n",
       "<style scoped>\n",
       "    .dataframe tbody tr th:only-of-type {\n",
       "        vertical-align: middle;\n",
       "    }\n",
       "\n",
       "    .dataframe tbody tr th {\n",
       "        vertical-align: top;\n",
       "    }\n",
       "\n",
       "    .dataframe thead th {\n",
       "        text-align: right;\n",
       "    }\n",
       "</style>\n",
       "<table border=\"1\" class=\"dataframe\">\n",
       "  <thead>\n",
       "    <tr style=\"text-align: right;\">\n",
       "      <th></th>\n",
       "      <th>template</th>\n",
       "      <th>zscore</th>\n",
       "    </tr>\n",
       "    <tr>\n",
       "      <th>subreddit</th>\n",
       "      <th></th>\n",
       "      <th></th>\n",
       "    </tr>\n",
       "  </thead>\n",
       "  <tbody>\n",
       "    <tr>\n",
       "      <th>Animemes</th>\n",
       "      <td>2095</td>\n",
       "      <td>6.068878</td>\n",
       "    </tr>\n",
       "    <tr>\n",
       "      <th>HistoryMemes</th>\n",
       "      <td>108</td>\n",
       "      <td>2.089408</td>\n",
       "    </tr>\n",
       "    <tr>\n",
       "      <th>dankmemes</th>\n",
       "      <td>60</td>\n",
       "      <td>6.223277</td>\n",
       "    </tr>\n",
       "    <tr>\n",
       "      <th>memes</th>\n",
       "      <td>16</td>\n",
       "      <td>4.731957</td>\n",
       "    </tr>\n",
       "    <tr>\n",
       "      <th>memesITA</th>\n",
       "      <td>253</td>\n",
       "      <td>2.345918</td>\n",
       "    </tr>\n",
       "  </tbody>\n",
       "</table>\n",
       "</div>"
      ],
      "text/plain": [
       "             template    zscore\n",
       "subreddit                      \n",
       "Animemes         2095  6.068878\n",
       "HistoryMemes      108  2.089408\n",
       "dankmemes          60  6.223277\n",
       "memes              16  4.731957\n",
       "memesITA          253  2.345918"
      ]
     },
     "execution_count": 38,
     "metadata": {},
     "output_type": "execute_result"
    }
   ],
   "source": [
    "significant[significant.cluster.eq(\"30\")].groupby(\"subreddit\").agg({\"template\": \"first\", \"zscore\": \"first\"})"
   ]
  },
  {
   "cell_type": "markdown",
   "id": "8be57c8a",
   "metadata": {},
   "source": [
    "# Innovation"
   ]
  },
  {
   "cell_type": "markdown",
   "id": "1d8a1950",
   "metadata": {},
   "source": [
    "## Entropy"
   ]
  },
  {
   "cell_type": "code",
   "execution_count": 17,
   "id": "e61774e5",
   "metadata": {},
   "outputs": [],
   "source": [
    "from scipy.stats import entropy\n",
    "from scipy.spatial.distance import jensenshannon"
   ]
  },
  {
   "cell_type": "code",
   "execution_count": 18,
   "id": "8e16edbe",
   "metadata": {},
   "outputs": [],
   "source": [
    "def get_entropy_values_for_cluster(semantic_cluster):\n",
    "    \"\"\"\n",
    "    Return size-k list of entropy values where\n",
    "    \n",
    "    k = the number of years the cluster has had meme instances\n",
    "    ith index = the entropy value i years after the first instance\n",
    "    \"\"\"\n",
    "    templates = template_clusters.cluster_to_tpl[semantic_cluster]\n",
    "    instances = get_instances(templates)\n",
    "    df = pd.DataFrame(instances)\n",
    "\n",
    "    df.loc[:, \"timestamp\"] = pd.to_datetime(df.utc, unit=\"s\")\n",
    "    \n",
    "    # get year by num years since first date\n",
    "    df.loc[:, \"year\"] = ((df.timestamp - df.timestamp.min()).dt.days / 365.2425).astype(int)\n",
    "\n",
    "    df = df[df.year != df.year.max]\n",
    "\n",
    "    counts_by_year_by_tpl = df.groupby([\"year\", df.template]).post_id.count().reset_index()\n",
    "    counts_by_year_by_tpl[\"proportion\"] = counts_by_year_by_tpl.groupby(\"year\").post_id.transform(lambda x: x / x.sum())\n",
    "    \n",
    "    sample_size = counts_by_year_by_tpl.groupby(\"year\").post_id.sum().min()\n",
    "    if sample_size < 30:\n",
    "        return None, None\n",
    "    distributions = counts_by_year_by_tpl.pivot(index=\"year\", columns=\"template\", values=\"proportion\").fillna(0)\n",
    "\n",
    "    years = distributions.index\n",
    "    min_years = 5\n",
    "    if len(years) < min_years:\n",
    "        return None, None\n",
    "    rng = np.random.default_rng(seed=0xb1ab)\n",
    "    resampled = pd.DataFrame([\n",
    "        rng.multinomial(sample_size, row)\n",
    "        for row in distributions.to_numpy()\n",
    "    ],\n",
    "        index=years,\n",
    "        columns=distributions.columns\n",
    "    )\n",
    "    max_years = 8\n",
    "    entropies = entropy(resampled.to_numpy(), axis=1)\n",
    "    \n",
    "    data = pd.DataFrame({\n",
    "        \"entropy\": entropies[:max_years],\n",
    "        \"year\": years[:max_years],\n",
    "        \"cluster\": [semantic_cluster] * min(len(years), max_years)\n",
    "    })\n",
    "#     return resampled\n",
    "#     resampled[\"proportion\"] = resampled.groupby(\"year\").value.transform(lambda x: x / x.sum())\n",
    "    \n",
    "#     data[\"cluster\"] = semantic_cluster\n",
    "#     data[\"timestamp\"] = data[\"timestamp\"] - data[\"timestamp\"].min()\n",
    "    return data, resampled"
   ]
  },
  {
   "cell_type": "code",
   "execution_count": 19,
   "id": "ed017e0c",
   "metadata": {},
   "outputs": [],
   "source": [
    "def draw_entropy():\n",
    "    topk = list(template_clusters.cluster_to_tpl.keys())\n",
    "    values = [get_entropy_values_for_cluster(clu)[0] for clu in (topk)]\n",
    "#     resampled = [get_entropy_values_for_cluster(clu)[1] for clu in tqdm(topk)]\n",
    "    values = [value for value in values if value is not None]\n",
    "    entropies = pd.concat(values)\n",
    "    print(f\"We have coverage over {len(df[df.cluster.isin(entropies.cluster.unique())])} posts\")\n",
    "    print(f\"and {len(values)} clusters\")\n",
    "    sns.pointplot(entropies, x=\"year\", y=\"entropy\")\n",
    "    plt.ylabel(\"Entropy\")\n",
    "    plt.xlabel(\"Years after introduction\")\n",
    "    plt.savefig(\"../figures/entropy.pdf\")\n"
   ]
  },
  {
   "cell_type": "code",
   "execution_count": 20,
   "id": "6486c878",
   "metadata": {},
   "outputs": [
    {
     "name": "stdout",
     "output_type": "stream",
     "text": [
      "We have coverage over 958924 posts\n",
      "and 146 clusters\n"
     ]
    },
    {
     "data": {
      "image/png": "[encoded data removed]",
      "text/plain": [
       "<Figure size 432x288 with 1 Axes>"
      ]
     },
     "metadata": {
      "needs_background": "light"
     },
     "output_type": "display_data"
    }
   ],
   "source": [
    "draw_entropy()"
   ]
  },
  {
   "cell_type": "code",
   "execution_count": 21,
   "id": "5eb786d7",
   "metadata": {},
   "outputs": [],
   "source": [
    "def get_js_dists(semantic_cluster):\n",
    "    \"\"\"\n",
    "    Return size-k list of entropy values where\n",
    "    \n",
    "    k = the number of years the cluster has had meme instances\n",
    "    ith index = the entropy value i years after the first instance\n",
    "    \"\"\"\n",
    "    templates = template_clusters.cluster_to_tpl[semantic_cluster]\n",
    "    instances = get_instances(templates)\n",
    "    df = pd.DataFrame(instances)\n",
    "\n",
    "    df.loc[:, \"timestamp\"] = pd.to_datetime(df.utc, unit=\"s\")\n",
    "#     df.loc[:, \"year\"] = df.timestamp.dt.year\n",
    "    df.loc[:, \"year\"] = ((df.timestamp - df.timestamp.min()).dt.days / 365.2425).astype(int)\n",
    "    df = df[df.year != df.year.max]\n",
    "\n",
    "    counts_by_year_by_tpl = df.groupby([df.year, df.template]).post_id.count().reset_index()\n",
    "    counts_by_year_by_tpl[\"proportion\"] = counts_by_year_by_tpl.groupby(\"year\").post_id.transform(lambda x: x / x.sum())\n",
    "    post_dist = counts_by_year_by_tpl.pivot(index=\"year\", columns=\"template\", values=\"proportion\").fillna(0)\n",
    "    pre_dist = post_dist.shift()\n",
    "\n",
    "    sample_size = counts_by_year_by_tpl.groupby(\"year\").post_id.sum().min()\n",
    "    if sample_size < 30:\n",
    "        return None\n",
    "\n",
    "    data = []\n",
    "    \n",
    "    for (year, pre), (_, post) in zip(pre_dist.iterrows(), post_dist.iterrows()):\n",
    "        dist = jensenshannon(pre, post)\n",
    "        data.append({\n",
    "            \"js_div\": dist,\n",
    "            \"year\": year,\n",
    "            \"cluster\": semantic_cluster\n",
    "        })\n",
    "    data = pd.DataFrame(data[1:])\n",
    "#     data[\"year\"] = data[\"year\"] - data[\"year\"].min()\n",
    "    return data"
   ]
  },
  {
   "cell_type": "code",
   "execution_count": 22,
   "id": "5ef71df1",
   "metadata": {},
   "outputs": [
    {
     "data": {
      "application/vnd.jupyter.widget-view+json": {
       "model_id": "577d54fa1403440aa5d71accd0c0cada",
       "version_major": 2,
       "version_minor": 0
      },
      "text/plain": [
       "  0%|          | 0/784 [00:00<?, ?it/s]"
      ]
     },
     "metadata": {},
     "output_type": "display_data"
    },
    {
     "data": {
      "image/png": "[encoded data removed]",
      "text/plain": [
       "<Figure size 432x288 with 1 Axes>"
      ]
     },
     "metadata": {
      "needs_background": "light"
     },
     "output_type": "display_data"
    }
   ],
   "source": [
    "def jsdiv():\n",
    "    topk = list(template_clusters.cluster_to_tpl.keys())#[:100]\n",
    "    values = [get_js_dists(clu) for clu in tqdm(topk)]\n",
    "    values = [value for value in values if value is not None]\n",
    "    dists = pd.concat(values)\n",
    "\n",
    "    sns.lineplot(dists, x=\"year\", y=\"js_div\")\n",
    "    plt.ylabel(\"JS Divergence\")\n",
    "    plt.xlabel(\"Years after introduction\")\n",
    "jsdiv()"
   ]
  },
  {
   "cell_type": "markdown",
   "id": "9fbf022b",
   "metadata": {},
   "source": [
    "## Diffusion"
   ]
  },
  {
   "cell_type": "code",
   "execution_count": 23,
   "id": "aca574cf",
   "metadata": {},
   "outputs": [],
   "source": [
    "def pmi(matrix):\n",
    "    num_x, num_y = matrix.shape\n",
    "    total = matrix.sum()\n",
    "    p_xy = matrix / total\n",
    "    p_x = matrix.sum(axis=1, keepdims=True) / total\n",
    "    p_y = matrix.sum(axis=0, keepdims=True) / total\n",
    "    pmi = np.log2(p_xy) - np.log2(p_x * p_y)\n",
    "    \n",
    "    return pmi\n",
    "\n",
    "\n",
    "def npmi(matrix):\n",
    "    h_xy = -np.log2(matrix / matrix.sum())\n",
    "    res = pmi(matrix) / h_xy\n",
    "    return np.where(np.isnan(res), -1, res)\n",
    "   \n",
    "def ppmi(matrix):\n",
    "    return np.maximum(pmi(matrix), 0)"
   ]
  },
  {
   "cell_type": "code",
   "execution_count": 24,
   "id": "731da727",
   "metadata": {},
   "outputs": [
    {
     "data": {
      "application/vnd.jupyter.widget-view+json": {
       "model_id": "2facdbd6aade4a3cb36e084fdd285fc7",
       "version_major": 2,
       "version_minor": 0
      },
      "text/plain": [
       "  0%|          | 0/784 [00:00<?, ?it/s]"
      ]
     },
     "metadata": {},
     "output_type": "display_data"
    },
    {
     "name": "stderr",
     "output_type": "stream",
     "text": [
      "<ipython-input-23-85692f592341>:7: RuntimeWarning: divide by zero encountered in log2\n",
      "  pmi = np.log2(p_xy) - np.log2(p_x * p_y)\n"
     ]
    }
   ],
   "source": [
    "pmi_dict = {}\n",
    "for cluster in tqdm(template_clusters.cluster_to_tpl.keys()):\n",
    "    matrix = create_doc_term_mat(df[df.cluster.eq(cluster)], \"subreddit\", \"template\")\n",
    "    \n",
    "    a = ppmi(matrix.mat)\n",
    "\n",
    "    for c, t in zip(*np.unravel_index(range(matrix.mat.size), matrix.mat.shape)):\n",
    "        pmi_dict[(matrix.idx2word[t], matrix.idx2doc[c])] = a[c, t]"
   ]
  },
  {
   "cell_type": "code",
   "execution_count": 25,
   "id": "1f5202bf",
   "metadata": {},
   "outputs": [],
   "source": [
    "df.loc[:, \"pmi\"] = df[[\"template\", \"subreddit\"]].apply(lambda x: pmi_dict[(x.template, x.subreddit)], axis=1)"
   ]
  },
  {
   "cell_type": "code",
   "execution_count": 27,
   "id": "a21654f7",
   "metadata": {},
   "outputs": [],
   "source": [
    "def first_subs_for_templates_in_cluster(semantic_cluster):\n",
    "    templates = template_clusters.cluster_to_tpl[semantic_cluster]\n",
    "    instances = get_instances(templates)\n",
    "    df = pd.DataFrame(instances)\n",
    "    \n",
    "    return df.sort_values(by=\"utc\").groupby(\"template\").agg({\"subreddit\": \"first\"})\n",
    "\n",
    "def topk_proportions(x):\n",
    "    counts = x.head(100).value_counts()\n",
    "    counts /= counts.sum()\n",
    "    return counts.iloc[0]\n",
    "\n",
    "def top_sub(x):\n",
    "    counts = x.head(100).value_counts()\n",
    "    counts /= counts.sum()\n",
    "    return counts.index[0]\n",
    "\n",
    "def origin_analysis():\n",
    "    # calculate the proportion of each subreddit among the starters\n",
    "    starter_proportions = df.sort_values(\"utc\").groupby(\"template\").agg(\n",
    "        proportion = (\"subreddit\", topk_proportions),\n",
    "        subreddit = (\"subreddit\", top_sub)\n",
    "    )\n",
    "\n",
    "    # bin proportions for later use\n",
    "    starter_proportions[\"binned_proportion\"] = starter_proportions.proportion * 100 // 10\n",
    "\n",
    "    # filter for at least 200, to do before/after\n",
    "    enough_posts = [tpl for tpl, ct in df.template.value_counts().to_dict().items() if ct > 200]\n",
    "    ending = df[df.template.isin(set(enough_posts))]\n",
    "\n",
    "    # construct list of afters for each template\n",
    "    tmp_dfs = []\n",
    "    for cluster, inds in tqdm(ending.groupby(\"template\").groups.items()):\n",
    "        tmp_dfs.append(\n",
    "            ending.loc[inds].sort_values(\"utc\", ascending=True).iloc[100:]\n",
    "        )\n",
    "    ending_df = pd.concat(tmp_dfs, axis=0)\n",
    "\n",
    "    # calculate after PMI\n",
    "    ending_pmi_dict = {}\n",
    "    for cluster in tqdm(ending_df.cluster.unique()):\n",
    "        matrix = create_doc_term_mat(ending_df[ending_df.cluster.eq(cluster)], \"subreddit\", \"template\")\n",
    "\n",
    "        a = ppmi(matrix.mat)\n",
    "\n",
    "        if matrix.mat.size == 0:\n",
    "    #             print(cluster)\n",
    "            continue\n",
    "\n",
    "        for c, t in zip(*np.unravel_index(np.array(range(matrix.mat.size)), matrix.mat.shape)):\n",
    "            ending_pmi_dict[(matrix.idx2word[t], matrix.idx2doc[c])] = a[c, t]\n",
    "\n",
    "    ending_df.loc[:, \"pmi\"] = ending_df[[\"template\", \"subreddit\"]].apply(lambda x: ending_pmi_dict.get((x.template, x.subreddit), None), axis=1)\n",
    "\n",
    "\n",
    "    starter_subs = starter_proportions.to_dict()[\"subreddit\"]\n",
    "    mask = ending_df.subreddit.ne(df.template.apply(starter_subs.get))\n",
    "\n",
    "    final_pmis = pd.DataFrame(\n",
    "        dict(pmi=starter_proportions.reset_index()[[\"template\", \"subreddit\"]].apply(lambda x: ending_pmi_dict.get((x.template, x.subreddit), None), axis=1),\n",
    "        template=starter_proportions.index)\n",
    "    ).set_index(\"template\").pmi\n",
    "\n",
    "\n",
    "    # final_control is the avg PMI of non-starters\n",
    "    # final_pmi is the PMI of the starter sub for each\n",
    "\n",
    "    starter_proportions.loc[:, \"final_control\"] = ending_df[mask].groupby(\"template\").pmi.agg(\"mean\")\n",
    "    starter_proportions.loc[:, \"final_pmi\"] = final_pmis\n",
    "\n",
    "    return starter_proportions"
   ]
  },
  {
   "cell_type": "code",
   "execution_count": 28,
   "id": "10a0d7d3",
   "metadata": {
    "code_folding": []
   },
   "outputs": [],
   "source": [
    "\n",
    "def linregplot(starter_proportions):\n",
    "    data = starter_proportions\n",
    "    data = data[data.proportion.between(0.5, 1, inclusive=\"left\")]\n",
    "    sns.regplot(\n",
    "        data=data,\n",
    "        x=\"proportion\",\n",
    "        y=data.final_pmi - data.final_control,\n",
    "    )\n",
    "    plt.ylabel(\"Origin PMI - Control PMI\")\n",
    "    plt.xlabel(\"Proportion of Seed Posts by Innovator Subreddit\")\n",
    "\n",
    "def linregplotb(starter_proportions):\n",
    "    data = starter_proportions\n",
    "    data = data[data.proportion.between(0.5, 1, inclusive=\"left\")]\n",
    "    sns.regplot(\n",
    "        data=data,\n",
    "        x=\"proportion\",\n",
    "        y=data.final_pmi,\n",
    "    )\n",
    "    plt.ylabel(\"Origin PMI\")\n",
    "    plt.xlabel(\"Proportion of Seed Posts by Innovator Subreddit\")\n",
    "    plt.savefig(\"../figures/div_linregress.pdf\")\n",
    "    \n",
    "def compareplot(starter_proportions):\n",
    "    data = starter_proportions.dropna(subset=[\"final_pmi\", \"final_control\"])\n",
    "    data = data[data.proportion.between(0.5, 1, inclusive=\"left\")]\n",
    "    data = data.melt(\n",
    "        id_vars=[\"binned_proportion\", \"subreddit\"],\n",
    "        value_vars=[\"final_pmi\", \"final_control\"],\n",
    "        var_name=\"Group\",\n",
    "        value_name=\"PPMI\"\n",
    "    )\n",
    "    sns.pointplot(\n",
    "        data=data.assign(\n",
    "            Group=data[\"Group\"].map({\"final_pmi\": \"Origin subreddit\", \"final_control\": \"Other subreddits\"})\n",
    "        ),\n",
    "        x=data.binned_proportion / 10,\n",
    "        y=\"PPMI\",\n",
    "        hue=\"Group\"\n",
    "    )\n",
    "    plt.xlabel(\"% of first 100 posts in origin subreddit\")\n",
    "    plt.savefig(\"../figures/divergence.pdf\")"
   ]
  },
  {
   "cell_type": "code",
   "execution_count": 29,
   "id": "89547d3d",
   "metadata": {},
   "outputs": [],
   "source": [
    "def regress(starter_proportions):\n",
    "    # do paired ttest\n",
    "    data = starter_proportions.dropna(subset=[\"final_pmi\", \"final_control\"])\n",
    "    data = data[data.proportion.between(0.5, 1, inclusive=\"left\")]\n",
    "#     results = stats.ttest_rel(data.final_pmi, data.final_control)\n",
    "    print(\"Paired t-test for each cluster\")\n",
    "    print(stats.linregress(data.proportion, data.final_pmi - data.final_control))"
   ]
  },
  {
   "cell_type": "code",
   "execution_count": 31,
   "id": "bc8290ea",
   "metadata": {},
   "outputs": [
    {
     "data": {
      "application/vnd.jupyter.widget-view+json": {
       "model_id": "d36866e0c65d4d8bada2a3ac8b3d26e5",
       "version_major": 2,
       "version_minor": 0
      },
      "text/plain": [
       "  0%|          | 0/3683 [00:00<?, ?it/s]"
      ]
     },
     "metadata": {},
     "output_type": "display_data"
    },
    {
     "data": {
      "application/vnd.jupyter.widget-view+json": {
       "model_id": "8196ee16d5db492b806bd2316fc807d3",
       "version_major": 2,
       "version_minor": 0
      },
      "text/plain": [
       "  0%|          | 0/702 [00:00<?, ?it/s]"
      ]
     },
     "metadata": {},
     "output_type": "display_data"
    },
    {
     "name": "stderr",
     "output_type": "stream",
     "text": [
      "<ipython-input-23-85692f592341>:7: RuntimeWarning: divide by zero encountered in log2\n",
      "  pmi = np.log2(p_xy) - np.log2(p_x * p_y)\n",
      "<ipython-input-27-dcabfa9e21b3>:69: UserWarning: Boolean Series key will be reindexed to match DataFrame index.\n",
      "  starter_proportions.loc[:, \"final_control\"] = ending_df[mask].groupby(\"template\").pmi.agg(\"mean\")\n"
     ]
    }
   ],
   "source": [
    "starter_proportions = origin_analysis()"
   ]
  },
  {
   "cell_type": "code",
   "execution_count": 32,
   "id": "ce1c7009",
   "metadata": {},
   "outputs": [
    {
     "name": "stdout",
     "output_type": "stream",
     "text": [
      "Paired t-test for each cluster\n",
      "LinregressResult(slope=3.8349818189385787, intercept=-2.354880105716605, rvalue=0.5046915037221197, pvalue=1.1844118404801556e-59, stderr=0.21830066757602912, intercept_stderr=0.13621971707415811)\n"
     ]
    }
   ],
   "source": [
    "regress(starter_proportions)"
   ]
  },
  {
   "cell_type": "code",
   "execution_count": 33,
   "id": "e4cfdb48",
   "metadata": {},
   "outputs": [
    {
     "data": {
      "image/png": "[encoded data removed]",
      "text/plain": [
       "<Figure size 432x288 with 1 Axes>"
      ]
     },
     "metadata": {
      "needs_background": "light"
     },
     "output_type": "display_data"
    }
   ],
   "source": [
    "linregplot(starter_proportions)"
   ]
  },
  {
   "cell_type": "code",
   "execution_count": 34,
   "id": "868b7cac",
   "metadata": {},
   "outputs": [
    {
     "data": {
      "image/png": "[encoded data removed]",
      "text/plain": [
       "<Figure size 432x288 with 1 Axes>"
      ]
     },
     "metadata": {
      "needs_background": "light"
     },
     "output_type": "display_data"
    }
   ],
   "source": [
    "compareplot(starter_proportions)"
   ]
  },
  {
   "cell_type": "markdown",
   "id": "a3e2d932",
   "metadata": {},
   "source": [
    "# Acculturation"
   ]
  },
  {
   "cell_type": "code",
   "execution_count": null,
   "id": "d660334b",
   "metadata": {},
   "outputs": [],
   "source": [
    "tmp = df.sort_values(\"utc\").groupby([\"subreddit\", \"user\"])\n",
    "df[\"comment_timedelta\"] = tmp.utc.transform(lambda x: x - x.iloc[0])\n",
    "df.comment_timedelta = pd.to_timedelta(df.comment_timedelta, unit=\"s\")\n",
    "\n",
    "a = df[\n",
    "    df.user.ne(\"[deleted]\")\n",
    "    & ~df.user.str.lower().str.contains(\"bot\")\n",
    "    & df.comment_timedelta.dt.days.lt(12 * 30)\n",
    "]\n",
    "\n",
    "user_counts = a.groupby([\"subreddit\", \"user\"]).post_id.count().reset_index()\n",
    "keep_user_subs = {(x.subreddit, x.user) for x in user_counts[user_counts.post_id.gt(10)][[\"subreddit\", \"user\"]].itertuples()}\n",
    "mask = a[[\"subreddit\", \"user\"]].apply(lambda x: (x.subreddit, x.user) in keep_user_subs, axis=1)\n",
    "grouped = a[mask].groupby([\"subreddit\", \"user\", a[mask].comment_timedelta.dt.days // 30]).pmi.mean().reset_index()\n",
    "\n",
    "keep_groups = grouped.subreddit.value_counts()[grouped.subreddit.value_counts() >= 30].index\n",
    "\n"
   ]
  },
  {
   "cell_type": "code",
   "execution_count": null,
   "id": "d36ac260",
   "metadata": {},
   "outputs": [],
   "source": [
    "len(g.user.unique())"
   ]
  },
  {
   "cell_type": "code",
   "execution_count": null,
   "id": "67edd139",
   "metadata": {},
   "outputs": [],
   "source": [
    "np.random.seed(0xb1ab)\n",
    "g = grouped[grouped.subreddit.isin(keep_groups)].groupby('subreddit', group_keys=False).apply(lambda x: x.sample(min(len(x), 100), replace=True))"
   ]
  },
  {
   "cell_type": "code",
   "execution_count": null,
   "id": "a12c188f",
   "metadata": {},
   "outputs": [],
   "source": [
    "sns.pointplot(x=g.comment_timedelta, y=g.pmi)\n",
    "\n",
    "plt.xlabel(\"Months since first comment\")\n",
    "plt.ylabel(\"PPMI\")\n",
    "plt.savefig(\"../figures/acculturation.pdf\")"
   ]
  },
  {
   "cell_type": "code",
   "execution_count": null,
   "id": "443b4154",
   "metadata": {},
   "outputs": [],
   "source": [
    "print(stats.pearsonr(g.comment_timedelta, g.pmi))"
   ]
  },
  {
   "cell_type": "code",
   "execution_count": null,
   "id": "fd8e33ad",
   "metadata": {},
   "outputs": [],
   "source": []
  }
 ],
 "metadata": {
  "kernelspec": {
   "display_name": "Python 3",
   "language": "python",
   "name": "python3"
  },
  "language_info": {
   "codemirror_mode": {
    "name": "ipython",
    "version": 3
   },
   "file_extension": ".py",
   "mimetype": "text/x-python",
   "name": "python",
   "nbconvert_exporter": "python",
   "pygments_lexer": "ipython3",
   "version": "3.8.5"
  }
 },
 "nbformat": 4,
 "nbformat_minor": 5
}
